{
 "cells": [
  {
   "cell_type": "markdown",
   "id": "c274746a",
   "metadata": {},
   "source": [
    "# Segmentation by filtering"
   ]
  },
  {
   "cell_type": "code",
   "execution_count": null,
   "id": "57a9e095",
   "metadata": {},
   "outputs": [],
   "source": [
    "# %matplotlib notebook\n",
    "%matplotlib inline"
   ]
  },
  {
   "cell_type": "code",
   "execution_count": null,
   "id": "12939a07",
   "metadata": {},
   "outputs": [],
   "source": [
    "import numpy as np\n",
    "import matplotlib.pyplot as plt\n",
    "from mpl_toolkits import mplot3d\n",
    "from math import exp\n",
    "from skimage import io\n",
    "from skimage.measure import block_reduce"
   ]
  },
  {
   "cell_type": "markdown",
   "id": "dd248aa3",
   "metadata": {},
   "source": [
    "## Sample image"
   ]
  },
  {
   "cell_type": "code",
   "execution_count": null,
   "id": "71a6b2cc",
   "metadata": {
    "scrolled": false
   },
   "outputs": [],
   "source": [
    "image = io.imread('../../SampleData/SampleExpImage.png')\n",
    "# image = image[:,:,0]\n",
    "# io.imsave('../../SampleData/SampleExpImage.png', image)\n",
    "io.imshow(image)\n",
    "print(image.shape)"
   ]
  },
  {
   "cell_type": "code",
   "execution_count": null,
   "id": "bf9d3d81",
   "metadata": {},
   "outputs": [],
   "source": [
    "# Fourier transform image\n",
    "image_fft = np.fft.fft2(image)\n",
    "image_fft = np.fft.fftshift(image_fft)\n",
    "\n",
    "image_fft_mag = abs(image_fft)\n",
    "\n",
    "print(image_fft.shape)\n",
    "print(image_fft.dtype)\n",
    "print(image_fft_mag.dtype)"
   ]
  },
  {
   "cell_type": "markdown",
   "id": "dc0145ed",
   "metadata": {},
   "source": [
    "## Basic binary filters"
   ]
  },
  {
   "cell_type": "markdown",
   "id": "4e68cd7d",
   "metadata": {},
   "source": [
    "### Create filter"
   ]
  },
  {
   "cell_type": "code",
   "execution_count": null,
   "id": "46d4da36",
   "metadata": {},
   "outputs": [],
   "source": [
    "# Draw BPF ring fcn def\n",
    "def ring_mask(height, width, radius_outer, radius_inner):\n",
    "    center = (int(width/2), int(height/2))\n",
    "\n",
    "    Y, X = np.ogrid[:height, :width]\n",
    "    dist_from_center = np.sqrt((X - center[0])**2 + (Y-center[1])**2)\n",
    "\n",
    "    mask = np.logical_and(dist_from_center <= radius_outer, dist_from_center >= radius_inner)\n",
    "    return mask\n",
    "# ---\n",
    "\n",
    "shape = image.shape\n",
    "\n",
    "# Make bases for filters\n",
    "rows, cols = shape\n",
    "xc, yc = (rows/2,cols/2)\n",
    "\n",
    "# Set filter params\n",
    "rad0_hpf = 5000\n",
    "rad1_hpf = 100\n",
    "\n",
    "rad0_bpf = 250\n",
    "rad1_bpf = 75\n",
    "\n",
    "# Make X,Y grid same size as base\n",
    "x = np.array(np.arange(0, cols, 1))\n",
    "y = np.array(np.arange(0, rows, 1))\n",
    "X, Y = np.meshgrid(x, y)\n",
    "\n",
    "# Ring masks\n",
    "mask_hpf = ring_mask(shape[0], shape[1], rad0_hpf, rad1_hpf)\n",
    "mask_bpf = ring_mask(shape[0], shape[1], rad0_bpf, rad1_bpf)\n",
    "\n",
    "# Show masks\n",
    "fig = plt.figure(figsize=(9,5))\n",
    "ax1 = fig.add_subplot(121) # HPF\n",
    "ax1.imshow(mask_hpf, cmap='gray')\n",
    "ax1 = fig.add_subplot(122) # BPF\n",
    "ax1.imshow(mask_bpf, cmap='gray')"
   ]
  },
  {
   "cell_type": "markdown",
   "id": "8ad774e3",
   "metadata": {},
   "source": [
    "### Visualize filter"
   ]
  },
  {
   "cell_type": "code",
   "execution_count": null,
   "id": "c69cd8a2",
   "metadata": {},
   "outputs": [],
   "source": [
    "# Z is masks\n",
    "Z1 = mask_hpf\n",
    "Z2 = mask_bpf\n",
    "\n",
    "# Crop (fft is very big because image is big)\n",
    "Z1 = Z1[200:-200, 200:-200]\n",
    "# Z2 = Z2[500:-500, 500:-500]\n",
    "\n",
    "# Downsample masks\n",
    "# (too big to do surface plot)\n",
    "Z1 = block_reduce(Z1, block_size=10)\n",
    "Z2 = block_reduce(Z2, block_size=10)\n",
    "\n",
    "# Threshold\n",
    "Z1 = 1*(Z1>0)\n",
    "Z2 = 1*(Z2>0)\n",
    "\n",
    "size1 = Z1.shape[0]\n",
    "size2 = Z2.shape[0]\n",
    "\n",
    "# Set X, Y grids\n",
    "x1 = np.array(np.arange(0, size1, 1))\n",
    "y1 = np.array(np.arange(0, size1, 1))\n",
    "xc1 = yc1 = size1//2\n",
    "X1, Y1 = np.meshgrid(x1, y1)\n",
    "\n",
    "x2 = np.array(np.arange(0, size2, 1))\n",
    "y2 = np.array(np.arange(0, size2, 1))\n",
    "xc2 = yc2 = size2//2\n",
    "X2, Y2 = np.meshgrid(x2, y2)\n",
    "\n",
    "# Show masks\n",
    "fig = plt.figure(figsize=(12,8))\n",
    "\n",
    "# HPF\n",
    "ax1 = fig.add_subplot(121, projection='3d')\n",
    "\n",
    "ax1.set_xticks([x1[1], xc1, x1[-3]], ['High\\nfreq', 'Low\\nfreq', 'High\\nfreq'], rotation=0)\n",
    "ax1.set_yticks([y1[1], yc1, y1[-3]], ['High\\nfreq', 'Low\\nfreq', 'High\\nfreq'], rotation=0)\n",
    "\n",
    "ax1.view_init(50, -80)\n",
    "ax1.plot_surface(X1, Y1, Z1, rstride=1, cstride=1, cmap='viridis', linewidth=0, antialiased=False, alpha=0.8)\n",
    "\n",
    "# BPF\n",
    "ax2 = fig.add_subplot(122, projection='3d')\n",
    "\n",
    "ax2.set_xticks([x2[1], xc2, x2[-3]], ['High\\nfreq', 'Low\\nfreq', 'High\\nfreq'], rotation=0)\n",
    "ax2.set_yticks([y2[1], yc2, y2[-3]], ['High\\nfreq', 'Low\\nfreq', 'High\\nfreq'], rotation=0)\n",
    "\n",
    "ax2.view_init(30, -80)\n",
    "\n",
    "ax2.plot_surface(X2, Y2, Z2, rstride=1, cstride=1, cmap='viridis', linewidth=0, antialiased=False, alpha=0.8)\n",
    "\n",
    "# fig.savefig('basic_filters.png', bbox_inches='tight')"
   ]
  },
  {
   "cell_type": "markdown",
   "id": "343a477a",
   "metadata": {},
   "source": [
    "### Applying the filter"
   ]
  },
  {
   "cell_type": "code",
   "execution_count": null,
   "id": "bcbe5570",
   "metadata": {},
   "outputs": [],
   "source": [
    "# Filter\n",
    "image_fft_hpf = np.multiply(mask_hpf, image_fft)\n",
    "image_fft_bpf = np.multiply(mask_bpf, image_fft)\n",
    "\n",
    "# Convert back IFFT and get magnitude\n",
    "image_hpf = np.fft.ifftshift(image_fft_hpf)\n",
    "image_hpf = np.fft.ifft2(image_hpf)\n",
    "# image_hpf = abs(image_hpf)\n",
    "\n",
    "image_bpf = np.fft.ifftshift(image_fft_bpf)\n",
    "image_bpf = np.fft.ifft2(image_bpf)\n",
    "# image_bpf = abs(image_bpf)\n",
    "\n",
    "# Show filtered images\n",
    "fig = plt.figure(figsize=(12,8))\n",
    "ax1 = fig.add_subplot(121) # HPF\n",
    "ax1.set_xticks([]);ax1.set_yticks([])\n",
    "ax1.imshow(image_hpf.astype(np.uint8), cmap='gray')\n",
    "ax2 = fig.add_subplot(122) # BPF\n",
    "ax2.imshow(image_bpf.astype(np.uint8), cmap='gray')\n",
    "ax2.set_xticks([]);ax2.set_yticks([])\n",
    "\n",
    "# fig.savefig('basic_filters_seg.png', bbox_inches='tight')"
   ]
  },
  {
   "cell_type": "markdown",
   "id": "a8b39eb6",
   "metadata": {},
   "source": [
    "## Gaussian"
   ]
  },
  {
   "cell_type": "markdown",
   "id": "72f039bc",
   "metadata": {},
   "source": [
    "### Create filter"
   ]
  },
  {
   "cell_type": "code",
   "execution_count": null,
   "id": "aa28f674",
   "metadata": {},
   "outputs": [],
   "source": [
    "shape = image_fft.shape\n",
    "\n",
    "# Make base for filters\n",
    "rows, cols = shape\n",
    "yc, xc = (rows/2,cols/2)\n",
    "baseHP = np.zeros(shape)\n",
    "baseLP = np.zeros(shape)\n",
    "\n",
    "# Set HP filter params\n",
    "A_HP = 1\n",
    "sigmaHP = 150\n",
    "\n",
    "# Set LP filter params\n",
    "A_LP = 0.8\n",
    "sigmaLP = 250\n",
    "\n",
    "# Calculate HP filter values with HP Gaussian function\n",
    "for x in range(cols):\n",
    "    for y in range(rows):\n",
    "        baseHP[y,x] = A_HP * ( 1 - exp(-abs((x-xc)**2 + (y-yc)**2) / (2*sigmaHP**2)) )\n",
    "\n",
    "# Calculate LP filter values with LP Gaussian function\n",
    "for x in range(cols):\n",
    "    for y in range(rows):\n",
    "        baseLP[y,x] = A_LP * exp(-abs((x-xc)**2 + (y-yc)**2) / (2*sigmaLP**2))"
   ]
  },
  {
   "cell_type": "markdown",
   "id": "b86fcefc",
   "metadata": {},
   "source": [
    "### Visualize filters"
   ]
  },
  {
   "cell_type": "code",
   "execution_count": null,
   "id": "0c87b539",
   "metadata": {},
   "outputs": [],
   "source": [
    "# Z is masks\n",
    "Z1 = baseHP\n",
    "Z2 = baseLP\n",
    "\n",
    "# Downsample masks\n",
    "# (too big to do surface plot)\n",
    "Z1 = block_reduce(Z1, block_size=20)\n",
    "Z2 = block_reduce(Z2, block_size=20)\n",
    "\n",
    "r, c = Z1.shape\n",
    "\n",
    "# Make X,Y grid same size as base and set Z vals to Gaussian\n",
    "x = np.array(np.arange(0, c, 1))\n",
    "y = np.array(np.arange(0, r, 1))\n",
    "\n",
    "xc = yc = r//2\n",
    "\n",
    "X1, Y1 = np.meshgrid(x, y)\n",
    "X2, Y2 = np.meshgrid(x, y)\n",
    "\n",
    "# Plot\n",
    "fig = plt.figure(figsize=(8,8))\n",
    "ax = fig.add_subplot(111, projection='3d')\n",
    "\n",
    "ax.set_xticks([x[1], xc, x[-3]], ['High\\nfreq', 'Low\\nfreq', 'High\\nfreq'], rotation=0)\n",
    "ax.set_yticks([y[1], yc, y[-3]], ['High\\nfreq', 'Low\\nfreq', 'High\\nfreq'], rotation=0)\n",
    "\n",
    "ax.view_init(50, 70)\n",
    "\n",
    "ax.plot_surface(X1, Y1, Z1, rstride=1, cstride=1, cmap='plasma', linewidth=0, antialiased=False, alpha=0.5)\n",
    "ax.plot_surface(X2, Y2, Z2, rstride=1, cstride=1, cmap='viridis', linewidth=0, antialiased=False, alpha=0.5)\n",
    "\n",
    "# fig.savefig('gaussian_filters.png', bbox_inches='tight')"
   ]
  },
  {
   "cell_type": "markdown",
   "id": "745e8fe1",
   "metadata": {},
   "source": [
    "### Apply filters"
   ]
  },
  {
   "cell_type": "code",
   "execution_count": null,
   "id": "2c66b8a0",
   "metadata": {},
   "outputs": [],
   "source": [
    "# FILTER \n",
    "image_fft_filt = np.multiply(baseHP, image_fft)\n",
    "image_fft_filt = np.multiply(baseLP, image_fft_filt)\n",
    "\n",
    "# Convert back IFFT\n",
    "image_filt = np.fft.ifftshift(image_fft_filt)\n",
    "image_filt = np.fft.ifft2(image_filt)\n",
    "# image_filt = abs(image_filt) # magnitude\n",
    "\n",
    "# Show filtered image\n",
    "fig = plt.figure(figsize=(8,8))\n",
    "ax = fig.add_subplot(111)\n",
    "ax.set_xticks([]); ax.set_yticks([])\n",
    "ax.imshow(image_filt.astype(np.uint8), cmap='gray')\n",
    "\n",
    "# fig.savefig('gaussian_filter_seg.png', bbox_inches='tight')"
   ]
  },
  {
   "cell_type": "code",
   "execution_count": null,
   "id": "b67f7c3c",
   "metadata": {},
   "outputs": [],
   "source": []
  }
 ],
 "metadata": {
  "kernelspec": {
   "display_name": "Python 3 (ipykernel)",
   "language": "python",
   "name": "python3"
  },
  "language_info": {
   "codemirror_mode": {
    "name": "ipython",
    "version": 3
   },
   "file_extension": ".py",
   "mimetype": "text/x-python",
   "name": "python",
   "nbconvert_exporter": "python",
   "pygments_lexer": "ipython3",
   "version": "3.10.5"
  }
 },
 "nbformat": 4,
 "nbformat_minor": 5
}
